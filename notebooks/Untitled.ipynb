{
 "cells": [
  {
   "cell_type": "code",
   "execution_count": 13,
   "id": "ae8f16aa-4737-45f3-8bcc-65989ef70ffd",
   "metadata": {},
   "outputs": [
    {
     "ename": "SyntaxError",
     "evalue": "invalid syntax (project_functions_Mete.py, line 39)",
     "output_type": "error",
     "traceback": [
      "Traceback \u001b[1;36m(most recent call last)\u001b[0m:\n",
      "  File \u001b[0;32m\"C:\\Users\\metec\\miniconda3\\lib\\site-packages\\IPython\\core\\interactiveshell.py\"\u001b[0m, line \u001b[0;32m3441\u001b[0m, in \u001b[0;35mrun_code\u001b[0m\n    exec(code_obj, self.user_global_ns, self.user_ns)\n",
      "\u001b[1;36m  File \u001b[1;32m\"C:\\Users\\metec\\AppData\\Local\\Temp/ipykernel_34420/2319791411.py\"\u001b[1;36m, line \u001b[1;32m1\u001b[1;36m, in \u001b[1;35m<module>\u001b[1;36m\u001b[0m\n\u001b[1;33m    from project_functions_Mete import load_and_process_file1\u001b[0m\n",
      "\u001b[1;36m  File \u001b[1;32m\"C:\\Users\\metec\\school\\project-group08-project\\notebooks\\project_functions_Mete.py\"\u001b[1;36m, line \u001b[1;32m39\u001b[0m\n\u001b[1;33m    return btc\u001b[0m\n\u001b[1;37m    ^\u001b[0m\n\u001b[1;31mSyntaxError\u001b[0m\u001b[1;31m:\u001b[0m invalid syntax\n"
     ]
    }
   ],
   "source": [
    "from project_functions_Mete import load_and_process_file1\n",
    "from project_functions_Mete import load_and_process_file2\n",
    "from project_functions_Mete import merge_and_process_dataframes"
   ]
  },
  {
   "cell_type": "code",
   "execution_count": null,
   "id": "77f5c710-5a4a-4d10-ab50-13e35f327d56",
   "metadata": {},
   "outputs": [],
   "source": [
    "btc= load_and_process_file2(\"/Users/metec/school/project-group08-project/data/processed/Bitcoin Historical Data cleaned.csv\")\n",
    "btc\n"
   ]
  },
  {
   "cell_type": "code",
   "execution_count": null,
   "id": "5702b220-ef12-47a8-9254-a0bce26a269a",
   "metadata": {},
   "outputs": [],
   "source": []
  },
  {
   "cell_type": "code",
   "execution_count": null,
   "id": "1eb637dc-6ebd-41c8-b016-1e311e417892",
   "metadata": {},
   "outputs": [],
   "source": [
    "eth= load_and_process_file1(\"/Users/metec/school/project-group08-project/data/processed/etherium cleaned.csv\")\n",
    "eth"
   ]
  },
  {
   "cell_type": "code",
   "execution_count": null,
   "id": "2a70b1fd-3d9c-4ebb-b062-045a74d0101d",
   "metadata": {},
   "outputs": [],
   "source": [
    "merge1= merge_and_process_dataframes(btc,eth)\n",
    "merge1"
   ]
  }
 ],
 "metadata": {
  "kernelspec": {
   "display_name": "Python 3 (ipykernel)",
   "language": "python",
   "name": "python3"
  },
  "language_info": {
   "codemirror_mode": {
    "name": "ipython",
    "version": 3
   },
   "file_extension": ".py",
   "mimetype": "text/x-python",
   "name": "python",
   "nbconvert_exporter": "python",
   "pygments_lexer": "ipython3",
   "version": "3.9.5"
  }
 },
 "nbformat": 4,
 "nbformat_minor": 5
}
