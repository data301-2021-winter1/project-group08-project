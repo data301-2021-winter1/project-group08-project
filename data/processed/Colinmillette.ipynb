{
 "cells": [
  {
   "cell_type": "code",
   "execution_count": 1,
   "id": "9ecfad33-fcd0-4cff-ae50-565ca294cb10",
   "metadata": {},
   "outputs": [
    {
     "name": "stdout",
     "output_type": "stream",
     "text": [
      "              Date      Close       Open       High        Low     Vol.\n",
      "0     Jul 26, 2021  38,233.20  35,392.30  39,639.90  35,236.70  161.68K\n",
      "1     Jul 25, 2021  35,391.10  34,392.50  35,391.10  33,881.30   65.10K\n",
      "2     Jul 24, 2021  33,824.80  33,600.50  33,955.00  33,412.90   67.14K\n",
      "3     Jul 23, 2021  33,603.30  32,297.90  33,605.60  32,041.10   66.15K\n",
      "4     Jul 22, 2021  32,298.90  32,131.70  32,585.40  31,729.40   64.87K\n",
      "...            ...        ...        ...        ...        ...      ...\n",
      "2176  Aug 11, 2015        269      263.3      269.9      261.4   51.36K\n",
      "2177  Aug 10, 2015      263.3      263.9      266.6      260.5   48.57K\n",
      "2178  Aug 09, 2015      263.9      258.6      266.8      258.6   57.48K\n",
      "2179  Aug 08, 2015      258.6      277.9      278.9      257.4   82.54K\n",
      "2180  Aug 07, 2015      277.9        278      279.6      274.3   42.81K\n",
      "\n",
      "[2181 rows x 6 columns]\n"
     ]
    }
   ],
   "source": [
    "import pandas as pd\n",
    "\n",
    "df = pd.read_csv('Bitcoin Historical Data cleaned.csv')\n",
    "\n",
    "print(df)"
   ]
  },
  {
   "cell_type": "code",
   "execution_count": 2,
   "id": "91a90024-5afb-474c-a4aa-9c75738c2a36",
   "metadata": {},
   "outputs": [
    {
     "name": "stdout",
     "output_type": "stream",
     "text": [
      "          Date        Close         Open         High          Low  \\\n",
      "0     26/07/21  2233.366699  2191.309814  2428.817139  2177.329590   \n",
      "1     25/07/21  2191.373779  2187.145508  2194.438232  2108.829834   \n",
      "2     24/07/21  2189.218750  2123.961182  2197.649414  2107.323486   \n",
      "3     23/07/21  2124.776611  2025.105713  2129.441162  2000.436279   \n",
      "4     22/07/21  2025.202759  1994.822876  2044.116455  1954.297852   \n",
      "...        ...          ...          ...          ...          ...   \n",
      "2207       NaN          NaN          NaN          NaN          NaN   \n",
      "2208       NaN          NaN          NaN          NaN          NaN   \n",
      "2209       NaN          NaN          NaN          NaN          NaN   \n",
      "2210       NaN          NaN          NaN          NaN          NaN   \n",
      "2211       NaN          NaN          NaN          NaN          NaN   \n",
      "\n",
      "            Volume  \n",
      "0     2.961432e+10  \n",
      "1     1.456648e+10  \n",
      "2     1.605745e+10  \n",
      "3     1.620039e+10  \n",
      "4     1.749548e+10  \n",
      "...            ...  \n",
      "2207           NaN  \n",
      "2208           NaN  \n",
      "2209           NaN  \n",
      "2210           NaN  \n",
      "2211           NaN  \n",
      "\n",
      "[2212 rows x 6 columns]\n"
     ]
    }
   ],
   "source": [
    "df = pd.read_csv('etherium cleaned.csv')\n",
    "\n",
    "print(df)\n"
   ]
  },
  {
   "cell_type": "code",
   "execution_count": null,
   "id": "d0c28851-ecce-4dca-ad5b-72d3e71af789",
   "metadata": {},
   "outputs": [],
   "source": []
  }
 ],
 "metadata": {
  "kernelspec": {
   "display_name": "Python 3 (ipykernel)",
   "language": "python",
   "name": "python3"
  },
  "language_info": {
   "codemirror_mode": {
    "name": "ipython",
    "version": 3
   },
   "file_extension": ".py",
   "mimetype": "text/x-python",
   "name": "python",
   "nbconvert_exporter": "python",
   "pygments_lexer": "ipython3",
   "version": "3.9.5"
  }
 },
 "nbformat": 4,
 "nbformat_minor": 5
}
